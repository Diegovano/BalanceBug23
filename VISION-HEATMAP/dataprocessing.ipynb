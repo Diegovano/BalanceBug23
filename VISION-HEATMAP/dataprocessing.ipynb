{
 "cells": [
  {
   "cell_type": "code",
   "execution_count": 23,
   "metadata": {},
   "outputs": [
    {
     "data": {
      "text/html": [
       "<div>\n",
       "<style scoped>\n",
       "    .dataframe tbody tr th:only-of-type {\n",
       "        vertical-align: middle;\n",
       "    }\n",
       "\n",
       "    .dataframe tbody tr th {\n",
       "        vertical-align: top;\n",
       "    }\n",
       "\n",
       "    .dataframe thead th {\n",
       "        text-align: right;\n",
       "    }\n",
       "</style>\n",
       "<table border=\"1\" class=\"dataframe\">\n",
       "  <thead>\n",
       "    <tr style=\"text-align: right;\">\n",
       "      <th></th>\n",
       "      <th>real_x</th>\n",
       "      <th>real_y</th>\n",
       "      <th>measured_x</th>\n",
       "      <th>measured_y</th>\n",
       "    </tr>\n",
       "  </thead>\n",
       "  <tbody>\n",
       "    <tr>\n",
       "      <th>0</th>\n",
       "      <td>213</td>\n",
       "      <td>36</td>\n",
       "      <td>204</td>\n",
       "      <td>37</td>\n",
       "    </tr>\n",
       "    <tr>\n",
       "      <th>1</th>\n",
       "      <td>147</td>\n",
       "      <td>37</td>\n",
       "      <td>147</td>\n",
       "      <td>37</td>\n",
       "    </tr>\n",
       "    <tr>\n",
       "      <th>2</th>\n",
       "      <td>93</td>\n",
       "      <td>37</td>\n",
       "      <td>93</td>\n",
       "      <td>46</td>\n",
       "    </tr>\n",
       "    <tr>\n",
       "      <th>3</th>\n",
       "      <td>40</td>\n",
       "      <td>40</td>\n",
       "      <td>39</td>\n",
       "      <td>45</td>\n",
       "    </tr>\n",
       "    <tr>\n",
       "      <th>4</th>\n",
       "      <td>40</td>\n",
       "      <td>86</td>\n",
       "      <td>33</td>\n",
       "      <td>96</td>\n",
       "    </tr>\n",
       "  </tbody>\n",
       "</table>\n",
       "</div>"
      ],
      "text/plain": [
       "   real_x   real_y   measured_x   measured_y\n",
       "0     213       36          204           37\n",
       "1     147       37          147           37\n",
       "2      93       37           93           46\n",
       "3      40       40           39           45\n",
       "4      40       86           33           96"
      ]
     },
     "execution_count": 23,
     "metadata": {},
     "output_type": "execute_result"
    }
   ],
   "source": [
    "import pandas as pd\n",
    "import math\n",
    "\n",
    "measured_data = pd.read_csv('real_data.csv')\n",
    "\n",
    "measured_data.head()\n"
   ]
  },
  {
   "cell_type": "code",
   "execution_count": 36,
   "metadata": {},
   "outputs": [
    {
     "name": "stdout",
     "output_type": "stream",
     "text": [
      "11.701226562401516 25.0 0.0\n"
     ]
    },
    {
     "data": {
      "text/plain": [
       "[-0.19895379349675493,\n",
       " -0.8798726151179957,\n",
       " -0.20311847367551725,\n",
       " -0.49645232921578136,\n",
       " 0.03799816995930713,\n",
       " 0.3806236774835055,\n",
       " 0.9310604961640006,\n",
       " -0.44141474363039296,\n",
       " -0.4749356611648222,\n",
       " 1.0,\n",
       " -0.3376344467061146,\n",
       " -0.569836080924492,\n",
       " -0.667189307291304,\n",
       " 0.14288866227027608,\n",
       " 0.10054899079815083,\n",
       " 0.2947093435196939,\n",
       " -0.09481476313643133,\n",
       " 0.43334993721136433,\n",
       " 0.16476838539509567,\n",
       " 0.00026117809543924324,\n",
       " 0.5005223391102688,\n",
       " 0.7897252177468135,\n",
       " 0.3442117466830701,\n",
       " -0.18660984915288362,\n",
       " -0.569836080924492]"
      ]
     },
     "execution_count": 36,
     "metadata": {},
     "output_type": "execute_result"
    }
   ],
   "source": [
    "measured_points = [tuple(r[0:2]) for r in measured_data.to_numpy()]\n",
    "resec_points = [tuple(r[2:4]) for r in measured_data.to_numpy()]\n",
    "\n",
    "def dist(point1, point2):\n",
    "  return math.sqrt((point1[0] - point2[0])**2 + (point1[1] - point2[1])**2)\n",
    "  \n",
    "errors = []\n",
    "avg_err = 0\n",
    "\n",
    "for i, mp in enumerate(measured_points):\n",
    "  errors.append(dist(mp, resec_points[i]))\n",
    "  avg_err += errors[i]\n",
    "\n",
    "avg_err /= len(errors)\n",
    "max_err = max(errors)\n",
    "min_err = min(errors)\n",
    "\n",
    "err_range = max(max_err - avg_err, avg_err - min_err)\n",
    "norm_err = [ (e - avg_err)/ err_range for e in errors]\n",
    "\n",
    "print(avg_err, max_err, min_err)\n",
    "norm_err"
   ]
  },
  {
   "cell_type": "code",
   "execution_count": 50,
   "metadata": {},
   "outputs": [
    {
     "data": {
      "image/png": "[encoded data removed]",
      "text/plain": [
       "<Figure size 640x480 with 1 Axes>"
      ]
     },
     "metadata": {},
     "output_type": "display_data"
    }
   ],
   "source": [
    "import matplotlib.pyplot as plt\n",
    "from matplotlib import colors\n",
    "import numpy as np\n",
    "\n",
    "fig, ax = plt.subplots()\n",
    "ax.scatter([r[0] for r in measured_points], [r[1] for r in measured_points])\n",
    "ax.scatter([r[0] for r in resec_points], [r[1] for r in resec_points])\n",
    "\n",
    "# draw gridlines\n",
    "# ax.grid(which='major', axis='both', linestyle='-', color='k', linewidth=2)\n",
    "ax.set_xticks(np.arange(0, 240, 40))\n",
    "ax.set_yticks(np.arange(0, 360, 40))\n",
    "\n",
    "ax.set_xlabel('x')\n",
    "ax.set_ylabel('y')\n",
    "\n",
    "ax.set_aspect(1)\n",
    "\n",
    "plt.show()"
   ]
  },
  {
   "cell_type": "markdown",
   "metadata": {},
   "source": []
  }
 ],
 "metadata": {
  "kernelspec": {
   "display_name": "Python 3",
   "language": "python",
   "name": "python3"
  },
  "language_info": {
   "codemirror_mode": {
    "name": "ipython",
    "version": 3
   },
   "file_extension": ".py",
   "mimetype": "text/x-python",
   "name": "python",
   "nbconvert_exporter": "python",
   "pygments_lexer": "ipython3",
   "version": "3.8.7"
  },
  "orig_nbformat": 4
 },
 "nbformat": 4,
 "nbformat_minor": 2
}
